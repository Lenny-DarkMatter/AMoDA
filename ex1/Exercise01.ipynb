{
 "cells": [
  {
   "cell_type": "markdown",
   "metadata": {},
   "source": [
    "# Exercise 1: Maximum-likelihood fitting\n",
    "\n",
    "In this exercise we will implement a maximum-likelihood fit using the common example of fitting a Gaussian curve to some normally-distributed data.\n",
    "\n",
    "The main task will be to implement a gradient-descent algorithm.\n"
   ]
  },
  {
   "cell_type": "markdown",
   "metadata": {},
   "source": [
    "## Parameters\n",
    "\n",
    "The objective of fitting a PDF to data is to find the values of the PDF's parameters that maximise the likelihood, thus giving the best description of a dataset (i.e. the best fit).\n",
    "\n",
    "While it's possible to store parameters as simple `float`s, we ask that you implement a class that stores the parameter value and a range that the value cannot stray outside during the fit. This will be especially helpful while testing and debugging your minimiser"
   ]
  },
  {
   "cell_type": "markdown",
   "metadata": {},
   "source": [
    "## PDFs and likelihoods\n",
    "\n",
    "A Gaussian PDF is defined as:\n",
    "$$\n",
    "f(x|\\mu,\\sigma) = \\frac{1}{\\sigma \\sqrt{2 \\pi}} \\exp\\left(-\\frac{(x - \\mu)^2}{2\\sigma^2}\\right)\n",
    "$$\n",
    "\n",
    "The likelihood is the product of the PDF evaluated on all points $\\{x_i\\}$ in a dataset (assuming all points are independent):\n",
    "\n",
    "$$\n",
    "\\mathcal{L}(\\mu,\\sigma) = \\prod_i f(x_i|\\mu,\\sigma)\n",
    "$$"
   ]
  },
  {
   "cell_type": "markdown",
   "metadata": {},
   "source": [
    "Rather than maximise the likelihood, it is easier computationally to minimise the negative log-likelihood:\n",
    "$$\n",
    "-\\log(\\mathcal{L}(\\mu,\\sigma)) = -\\sum_i\\log(f(x_i|\\mu,\\sigma)) \n",
    "$$\n",
    "with\n",
    "$$\n",
    "\\log(\\mathcal{L}(\\mu,\\sigma)) = \\log\\left(\\frac{1}{\\sigma\\sqrt{2\\pi}}\\right) + \\frac{1}{2\\sigma^2} \\sum_i \\left(-(x_i-\\mu)^2\\right) =: -L(\\mu, \\sigma)\n",
    "$$"
   ]
  },
  {
   "cell_type": "code",
   "execution_count": 54,
   "metadata": {},
   "outputs": [],
   "source": [
    "def L(x, mu, sig):\n",
    "    fac = np.log(1 / (np.sqrt(2*np.pi)*sig) )\n",
    "    exp = np.sum((x-mu)**2) / (2*sig**2)\n",
    "    return fac+exp"
   ]
  },
  {
   "cell_type": "markdown",
   "metadata": {},
   "source": [
    "## Minimisation via gradient descent\n",
    "\n",
    "Gradient descent is a method of finding the local minimum of a differentiable function by following the local gradient.\n",
    "\n",
    "Note that the local minimum may not be the same as the global minimum. There are strategies to avoid a local-but-not-global minimum, such as performing a fit multiple times with random starting values.\n",
    "\n",
    "Say we have a multivariate function $L(\\vec{\\theta})$, where $\\vec{\\theta} = [\\theta_1, \\theta_2, ..., \\theta_n].$ _**NB**: in this exercise, $L(\\vec{\\theta})=-\\log(\\mathcal{L}(\\mu,\\sigma))$, the negative log-likelihood._\n",
    "\n",
    "The gradient of the function is $$\\nabla_\\theta L(\\vec{\\theta}) = \\left[\\frac{\\partial L}{\\partial \\theta_1}, \\frac{\\partial L}{\\partial \\theta_2}, ..., \\frac{\\partial L}{\\partial \\theta_n}\\right].$$\n",
    "\n",
    "Starting from some initial position $\\vec{\\theta}_i$, one can descend the gradient towards the minimum by subtracting an amount proportional to the local gradient: $$\\vec{\\theta}_{t} = \\vec{\\theta}_{t-1} - \\eta_t \\nabla_\\theta L(\\vec{\\theta}_{t-1}),$$ where $\\eta_t$ is the \"step size\". This can be repeated until $\\vec{\\theta}$ converges on the values that minimise $L(\\vec{\\theta})$ (i.e. the best-fit values $\\vec{\\hat{\\theta}}$).\n",
    "\n",
    "The exact criterion for achieving convergence is up to you to decide and implement.\n",
    "A good starting point is to use the relative change $$\\left|\\frac{L(\\vec{\\theta}_{i})-L(\\vec{\\theta}_{i-1})}{L(\\vec{\\theta}_{i})+L(\\vec{\\theta}_{i-1})}\\right|$$ and stop when it goes below some threshold.\n",
    "\n",
    "Choosing an appropriate step size $\\eta_t$ is crucial for an optimal balance between speed and precision, and many methods are available for doing this. Note that it does not need to be a fixed size and can be adjusted at each iteration.\n",
    "\n",
    "### Batch vs stochastic\n",
    "\n",
    "In batch gradient descent, the parameters are updated using the likelihood calculated over the full dataset.\n",
    "\n",
    "In stochastic gradient descent, the parameters are updated for each datapoint (using $\\nabla_\\theta L(\\vec{\\theta}, x_i)$), or a sub-sample of the full dataset (mini-batch).\n",
    "\n",
    "*See the lecture notes for more.*\n",
    "\n",
    "### Momentum\n",
    "\n",
    "Useful particularly in stochastic/mini-batch gradient descent is the idea of 'momentum'. Where the parameters are updated using: $$\\vec{\\theta}_t = \\vec{\\theta}_{t-1} - \\vec{v}_t,$$ where $$\\vec{v}_t = \\gamma \\vec{v}_{t-1} + \\eta_t \\nabla_\\theta L(\\vec{\\theta}_{t-1}, x),$$ where $\\gamma$ is the momentum parameter $0 < \\gamma < 1$ (typically around 0.9).\n",
    "\n",
    "### Nesterov's accelerated gradient descent\n",
    "\n",
    "Using momentum we can 'look ahead' to where the next update will be approximately, without calculating a new gradient: $$\\vec{\\theta}_t \\approx \\vec{\\theta}_{t-1} - \\gamma \\vec{v}_{t-1}$$\n",
    "\n",
    "We can instead use that position when calculating the new gradient, so $\\vec{v}_t$ becomes: $$\\vec{v}_t = \\gamma \\vec{v}_{t-1} + \\eta_t \\nabla_\\theta L(\\vec{\\theta}_{t-1} - \\gamma \\vec{v}_{t-1}, x).$$"
   ]
  },
  {
   "cell_type": "markdown",
   "metadata": {},
   "source": [
    "## Implementing your own gradient-descent minimiser\n",
    "\n",
    "Here you should implement:\n",
    "1. A parameter class that holds the value and allowed range of a parameter\n",
    "  - When setting a value outside the allowed range, force the value to equal the nearest boundary\n",
    "2. A Gaussian PDF class or function using parameters that control its mean and standard deviation\n",
    "3. A gradient-descent minimiser which iteratively:\n",
    "  - Calcualtes the likelihood gradient at the current values of the fit parameters\n",
    "  - Updates the parameters following the gradient\n",
    "  - Saves the likelihood in a list (for plotting later)\n",
    "  - Stops the fit if it has converged (or if a maximum number of iterations have been reached)"
   ]
  },
  {
   "cell_type": "markdown",
   "metadata": {},
   "source": [
    "### Gradient function"
   ]
  },
  {
   "cell_type": "code",
   "execution_count": 131,
   "metadata": {},
   "outputs": [],
   "source": [
    "def derivative(func, derive_dim, x, *args):\n",
    "    # not perfect!!!\n",
    "    import numpy as np\n",
    "    eps = np.finfo(float).eps\n",
    "    hi = np.array(args, dtype=float)\n",
    "    lo = np.array(args, dtype=float)\n",
    "    hi[derive_dim] *= (1+eps)\n",
    "    lo[derive_dim] *= (1-eps)\n",
    "    \n",
    "    dv = ( func(x, *hi) - func(x, *lo) ) / (2*args[derive_dim]*eps)\n",
    "    \n",
    "    return dv\n",
    "    \n",
    "\n",
    "def gradient(func, x, *args):\n",
    "    out = []\n",
    "    # derive in every dimension\n",
    "    for i in range(len(args)):\n",
    "        out.append(derivative(func, i, x, *args))\n",
    "    return out\n",
    "\n",
    "def dummy(x, mu, sig):\n",
    "    return (x-mu)**2/2/sig**2\n",
    "\n",
    "\n"
   ]
  },
  {
   "cell_type": "code",
   "execution_count": 200,
   "metadata": {},
   "outputs": [],
   "source": [
    "# Implement the parameter class, the Guassian PDF and gradient-descent minimisation here\n",
    "# You can create extra cells if you wish\n",
    "\n",
    "import numpy as np\n",
    "\n",
    "class param:\n",
    "    def __init__(self, value, lower_limit, upper_limit):\n",
    "        self.low = lower_limit\n",
    "        self.up = upper_limit\n",
    "        self.value = value\n",
    "        return None\n",
    "        \n",
    "    def new_value(self, new_val):\n",
    "        # including a range check\n",
    "        if new_val < self.low:\n",
    "            self.value = self.low\n",
    "        elif new_val > self.up:\n",
    "            self.value = self.up\n",
    "        else:\n",
    "            self.value = new_val\n",
    "        return None\n",
    "            \n",
    "        \n",
    "def gauss(x, mu, sig):\n",
    "    return 1 / np.sqrt(2*np.pi*sig**2) * np.exp( -(x-mu)**2 / (2*sig**2) )\n",
    "\n",
    "\n",
    "def gauss_fit(x, a, mu, sig):\n",
    "    return a / np.sqrt(2*np.pi*sig**2) * np.exp( -(x-mu)**2 / (2*sig**2) )\n",
    "\n",
    "\n",
    "# 3. A gradient-descent minimiser which iteratively:\n",
    "  # - Calcualtes the likelihood gradient at the current values of the fit parameters\n",
    "  # - Updates the parameters following the gradient\n",
    "  # - Saves the likelihood in a list (for plotting later)\n",
    "  # - Stops the fit if it has converged (or if a maximum number of iterations have been reached)\n",
    "\n",
    "\n",
    "\n",
    "def gdMinimiser(data, eta=0.9, max_iter = 5e3):\n",
    "    \"\"\"\n",
    "    maximise a function's log-likelihood (minimise chisq)\n",
    "    using stochastic gradient descent (assumes normal distributed values)\n",
    "    \n",
    "    params:\n",
    "    data : array of data points\n",
    "    eta : learning rate\n",
    "    \n",
    "    \"\"\"\n",
    "    \n",
    "    # mu0, sigma0 = data.mean(), data.std()\n",
    "    # self.mu0 = mu0\n",
    "    # self.sigma0 = sigma0\n",
    "\n",
    "    # if mu would not lie in data, maybe to little values\n",
    "    mu_min, mu_max = 0, data.max()*1e3 # data.min(), data.max()\n",
    "\n",
    "    # not so sure yet, maybe mu_min, mu_max\n",
    "    sigma_min, sigma_max = 0, data.std()*1e2 # mu_min, mu_max\n",
    "    \n",
    "    # define 't-1' parameters with small offset to 't'\n",
    "    mu0  = param(data.mean() *1.2,  mu_min,  mu_max)\n",
    "    sigma0 = param(data.std() *0.9, sigma_min, sigma_max)\n",
    "    \n",
    "    # define 't' parameters\n",
    "    mu1  = param(data.mean()*1.1, mu_min, mu_max)\n",
    "    sigma1 = param(data.std()*0.8, sigma_min, sigma_max)\n",
    "    \n",
    "    # Saves the likelihood in a list (for plotting later)\n",
    "    lhood_list = []\n",
    "    \n",
    "    eta_mu = 2 # (mu1.value - mu0.value) / (mu1.value + mu0.value)\n",
    "    eta_sigma = 2 # (sigma1.value - sigma0.value) / (sigma1.value + sigma0.value) \n",
    "\n",
    "    # start and handling params for while loop\n",
    "    # Stops the fit if it has converged (or if a maximum number of iterations have been reached)\n",
    "    break_criterion = 1e10\n",
    "    n_iter = 0\n",
    "    \n",
    "    ###########\n",
    "    mu_list, sigma_list = [], []\n",
    "    \n",
    "    while break_criterion > 1e-5 and n_iter < max_iter:\n",
    "        \n",
    "        lhood = L(data, mu1.value, sigma1.value)\n",
    "                \n",
    "        # save for plotting\n",
    "        lhood_list.append(lhood)\n",
    "\n",
    "        gradient_mu, gradient_sigma = gradient(L, data, mu1.value, sigma1.value)\n",
    "\n",
    "        mu0.new_value(mu1.value)\n",
    "        sigma0.new_value(sigma1.value)\n",
    "        \n",
    "        mu1.new_value(mu1.value - eta_mu * gradient_mu)\n",
    "        sigma1.new_value(sigma1.value - eta_sigma * gradient_sigma)\n",
    "        \n",
    "        mu_list.append(mu1.value)\n",
    "        sigma_list.append(np.sqrt(sigma1.value))\n",
    "        \n",
    "        break_criterion = np.abs(gradient_mu) + np.abs(gradient_sigma)\n",
    "        \n",
    "        n_iter += 1\n",
    "        \n",
    "#         print(n_iter, mu1.value, sigma1.value)\n",
    "    if n_iter < max_iter:\n",
    "        print(f\"Converged after {n_iter} iterations!\")\n",
    "    # else:\n",
    "    #     raise OptimizeWarning(f\"Did not converge, maximum number of iterations ({max_iter}) reached.\\nmu = {mu1.value}, sigma = {var1.value}\")\n",
    "   \n",
    "    return [mu1.value, sigma1.value], lhood_list, mu_list, sigma_list\n",
    "    "
   ]
  },
  {
   "cell_type": "code",
   "execution_count": 201,
   "metadata": {},
   "outputs": [
    {
     "name": "stdout",
     "output_type": "stream",
     "text": [
      "Converged after 42365 iterations!\n",
      "[5300.6775474989645, 1433.805351852375]\n"
     ]
    },
    {
     "data": {
      "image/png": "[encoded data removed]",
      "text/plain": [
       "<Figure size 432x288 with 3 Axes>"
      ]
     },
     "metadata": {
      "needs_background": "light"
     },
     "output_type": "display_data"
    }
   ],
   "source": [
    "import pandas as pd\n",
    "import matplotlib.pyplot as plt\n",
    "\n",
    "df = pd.read_csv(\"test_data.csv\", names=[\"mass\"])\n",
    "data = df[\"mass\"].to_numpy()\n",
    "\n",
    "\n",
    "popt, lhoods, mus, sigs = gdMinimiser(data, eta=0.1, max_iter=5e4)\n",
    "\n",
    "print(popt)\n",
    "\n",
    "fig, (ax1, ax2, ax3) = plt.subplots(3)\n",
    "\n",
    "ax1.plot(lhoods)\n",
    "ax2.plot(mus)\n",
    "ax3.plot(sigs)\n",
    "plt.show()"
   ]
  },
  {
   "cell_type": "code",
   "execution_count": 151,
   "metadata": {},
   "outputs": [
    {
     "data": {
      "image/png": "[encoded data removed]",
      "text/plain": [
       "<Figure size 432x288 with 1 Axes>"
      ]
     },
     "metadata": {
      "needs_background": "light"
     },
     "output_type": "display_data"
    }
   ],
   "source": [
    "import scipy.optimize as so\n",
    "\n",
    "num_bins = 50\n",
    "vals, bins, _ = plt.hist(df[\"mass\"], num_bins)\n",
    "bin_width = (bins[-1] - bins[0])/num_bins\n",
    "\n",
    "x = (bins[1:] + bins[:-1]) / 2\n",
    "y = vals\n",
    "y_err = vals\n",
    "y_err[y_err == 0] = 1\n",
    "y_err = np.sqrt( y_err )\n",
    "\n",
    "popt, pcov = so.curve_fit(gauss_fit, x, y, sigma=y_err, p0=[1, data.mean(), data.std()])\n",
    "\n",
    "plt.plot(x, gauss_fit(x, *popt), c='r', label=popt)\n",
    "plt.legend()\n",
    "plt.show()"
   ]
  },
  {
   "cell_type": "code",
   "execution_count": 53,
   "metadata": {},
   "outputs": [
    {
     "data": {
      "text/plain": [
       "[<matplotlib.lines.Line2D at 0x14e414520>]"
      ]
     },
     "execution_count": 53,
     "metadata": {},
     "output_type": "execute_result"
    },
    {
     "data": {
      "image/png": "[encoded data removed]",
      "text/plain": [
       "<Figure size 432x288 with 1 Axes>"
      ]
     },
     "metadata": {
      "needs_background": "light"
     },
     "output_type": "display_data"
    }
   ],
   "source": [
    "plt.plot(mus)"
   ]
  },
  {
   "cell_type": "markdown",
   "metadata": {},
   "source": [
    "## Fitting data\n",
    "\n",
    "The data sample provided with this sheet consists of Gaussian-distributed measurements of the $B^0$ meson mass, in units of MeV. The standard deviation of the distribution is dominated by the resolution of the detector used to make the measurement.\n",
    "\n",
    "Your task is to obtain best-fit values for the mass of the meson (i.e. the mean, $\\mu$) and the detector resolution (i.e. the standard deviation $\\sigma$) using your minimiser and Gaussian PDFs implemented above.\n",
    "\n",
    "In the cell below, the data is loaded into a [Pandas DataFrame](https://pandas.pydata.org/pandas-docs/stable/reference/api/pandas.DataFrame.html) and plotted as a [Matplotlib histogram](https://matplotlib.org/stable/api/_as_gen/matplotlib.pyplot.hist.html). This should give you an idea of which starting values and ranges to set for the parameters."
   ]
  },
  {
   "cell_type": "code",
   "execution_count": 200,
   "metadata": {},
   "outputs": [
    {
     "data": {
      "image/png": "[encoded data removed]",
      "text/plain": [
       "<Figure size 432x288 with 1 Axes>"
      ]
     },
     "metadata": {
      "needs_background": "light"
     },
     "output_type": "display_data"
    }
   ],
   "source": [
    "import pandas as pd\n",
    "from matplotlib import pyplot as plt\n",
    "\n",
    "df = pd.read_csv(\"test_data.csv\", names=[\"mass\"])\n",
    "\n",
    "num_bins = 50\n",
    "vals, bins, _ = plt.hist(df[\"mass\"], num_bins)\n",
    "bin_width = (bins[-1] - bins[0])/num_bins\n",
    "plt.xlabel(\"Mass [MeV]\")\n",
    "plt.ylabel(f\"Events / ({bin_width:.1f} MeV)\")\n",
    "plt.show()"
   ]
  },
  {
   "cell_type": "code",
   "execution_count": 202,
   "metadata": {},
   "outputs": [],
   "source": [
    "# Use this cell to perform a fit to the data\n"
   ]
  },
  {
   "cell_type": "markdown",
   "metadata": {},
   "source": [
    "## Plotting the results\n",
    "\n",
    "1. Plot the PDF with best-fit values overlaid on to a histogram of the data.\n",
    "  - _**Hint**: to achieve the same normalisation for the data and the PDF, you may choose to use `density=True` in the arguments to `pyplot.hist`_\n",
    "1. Plot a 'likelihood trace' (i.e. the 'history' of the likelihood at each iteration) for the following cases:\n",
    "  - Several choices of fixed step size for batch gradient descent\n",
    "  - The effect of different methods of gradient-descent (6 in total)\n",
    "    - batch\n",
    "    - mini-batch\n",
    "    - stochastic\n",
    "    - all of the above using the Nesterov technique"
   ]
  },
  {
   "cell_type": "code",
   "execution_count": null,
   "metadata": {},
   "outputs": [],
   "source": []
  }
 ],
 "metadata": {
  "kernelspec": {
   "display_name": "Python 3 (ipykernel)",
   "language": "python",
   "name": "python3"
  },
  "language_info": {
   "codemirror_mode": {
    "name": "ipython",
    "version": 3
   },
   "file_extension": ".py",
   "mimetype": "text/x-python",
   "name": "python",
   "nbconvert_exporter": "python",
   "pygments_lexer": "ipython3",
   "version": "3.9.10"
  }
 },
 "nbformat": 4,
 "nbformat_minor": 4
}
